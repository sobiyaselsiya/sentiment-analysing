{
 "cells": [
  {
   "cell_type": "code",
   "execution_count": 6,
   "metadata": {},
   "outputs": [],
   "source": [
    "import pandas as pd\n",
    "import numpy as np\n",
    "import matplotlib.pyplot as plt\n",
    "import seaborn as sns\n",
    "import nltk # For NLP\n",
    "import re # For Regex \n",
    "import string # For punctuation\n",
    "import warnings # For warnings\n",
    "  \n",
    "warnings.filterwarnings(action = 'ignore')\n"
   ]
  },
  {
   "cell_type": "code",
   "execution_count": 9,
   "metadata": {},
   "outputs": [],
   "source": [
    "train_data=pd.read_csv(\"twitter dataset.csv\")"
   ]
  },
  {
   "cell_type": "code",
   "execution_count": 10,
   "metadata": {},
   "outputs": [
    {
     "data": {
      "text/html": [
       "<div>\n",
       "<style scoped>\n",
       "    .dataframe tbody tr th:only-of-type {\n",
       "        vertical-align: middle;\n",
       "    }\n",
       "\n",
       "    .dataframe tbody tr th {\n",
       "        vertical-align: top;\n",
       "    }\n",
       "\n",
       "    .dataframe thead th {\n",
       "        text-align: right;\n",
       "    }\n",
       "</style>\n",
       "<table border=\"1\" class=\"dataframe\">\n",
       "  <thead>\n",
       "    <tr style=\"text-align: right;\">\n",
       "      <th></th>\n",
       "      <th>ItemID</th>\n",
       "      <th>Sentiment</th>\n",
       "      <th>SentimentText</th>\n",
       "    </tr>\n",
       "  </thead>\n",
       "  <tbody>\n",
       "    <tr>\n",
       "      <th>0</th>\n",
       "      <td>1</td>\n",
       "      <td>0</td>\n",
       "      <td>is so sad for my APL frie...</td>\n",
       "    </tr>\n",
       "    <tr>\n",
       "      <th>1</th>\n",
       "      <td>2</td>\n",
       "      <td>0</td>\n",
       "      <td>I missed the New Moon trail...</td>\n",
       "    </tr>\n",
       "    <tr>\n",
       "      <th>2</th>\n",
       "      <td>3</td>\n",
       "      <td>1</td>\n",
       "      <td>omg its already 7:30 :O</td>\n",
       "    </tr>\n",
       "    <tr>\n",
       "      <th>3</th>\n",
       "      <td>4</td>\n",
       "      <td>0</td>\n",
       "      <td>.. Omgaga. Im sooo  im gunna CRy. I'...</td>\n",
       "    </tr>\n",
       "    <tr>\n",
       "      <th>4</th>\n",
       "      <td>5</td>\n",
       "      <td>0</td>\n",
       "      <td>i think mi bf is cheating on me!!!   ...</td>\n",
       "    </tr>\n",
       "    <tr>\n",
       "      <th>...</th>\n",
       "      <td>...</td>\n",
       "      <td>...</td>\n",
       "      <td>...</td>\n",
       "    </tr>\n",
       "    <tr>\n",
       "      <th>99984</th>\n",
       "      <td>99996</td>\n",
       "      <td>0</td>\n",
       "      <td>@Cupcake  seems like a repeating problem   hop...</td>\n",
       "    </tr>\n",
       "    <tr>\n",
       "      <th>99985</th>\n",
       "      <td>99997</td>\n",
       "      <td>1</td>\n",
       "      <td>@cupcake__ arrrr we both replied to each other...</td>\n",
       "    </tr>\n",
       "    <tr>\n",
       "      <th>99986</th>\n",
       "      <td>99998</td>\n",
       "      <td>0</td>\n",
       "      <td>@CuPcAkE_2120 ya i thought so</td>\n",
       "    </tr>\n",
       "    <tr>\n",
       "      <th>99987</th>\n",
       "      <td>99999</td>\n",
       "      <td>1</td>\n",
       "      <td>@Cupcake_Dollie Yes. Yes. I'm glad you had mor...</td>\n",
       "    </tr>\n",
       "    <tr>\n",
       "      <th>99988</th>\n",
       "      <td>100000</td>\n",
       "      <td>1</td>\n",
       "      <td>@cupcake_kayla haha yes you do</td>\n",
       "    </tr>\n",
       "  </tbody>\n",
       "</table>\n",
       "<p>99989 rows × 3 columns</p>\n",
       "</div>"
      ],
      "text/plain": [
       "       ItemID  Sentiment                                      SentimentText\n",
       "0           1          0                       is so sad for my APL frie...\n",
       "1           2          0                     I missed the New Moon trail...\n",
       "2           3          1                            omg its already 7:30 :O\n",
       "3           4          0            .. Omgaga. Im sooo  im gunna CRy. I'...\n",
       "4           5          0           i think mi bf is cheating on me!!!   ...\n",
       "...       ...        ...                                                ...\n",
       "99984   99996          0  @Cupcake  seems like a repeating problem   hop...\n",
       "99985   99997          1  @cupcake__ arrrr we both replied to each other...\n",
       "99986   99998          0                     @CuPcAkE_2120 ya i thought so \n",
       "99987   99999          1  @Cupcake_Dollie Yes. Yes. I'm glad you had mor...\n",
       "99988  100000          1                    @cupcake_kayla haha yes you do \n",
       "\n",
       "[99989 rows x 3 columns]"
      ]
     },
     "execution_count": 10,
     "metadata": {},
     "output_type": "execute_result"
    }
   ],
   "source": [
    "train_data"
   ]
  },
  {
   "cell_type": "code",
   "execution_count": 11,
   "metadata": {},
   "outputs": [
    {
     "data": {
      "text/plain": [
       "pandas.core.frame.DataFrame"
      ]
     },
     "execution_count": 11,
     "metadata": {},
     "output_type": "execute_result"
    }
   ],
   "source": [
    "type(train_data)"
   ]
  },
  {
   "cell_type": "code",
   "execution_count": 12,
   "metadata": {},
   "outputs": [
    {
     "data": {
      "text/html": [
       "<div>\n",
       "<style scoped>\n",
       "    .dataframe tbody tr th:only-of-type {\n",
       "        vertical-align: middle;\n",
       "    }\n",
       "\n",
       "    .dataframe tbody tr th {\n",
       "        vertical-align: top;\n",
       "    }\n",
       "\n",
       "    .dataframe thead th {\n",
       "        text-align: right;\n",
       "    }\n",
       "</style>\n",
       "<table border=\"1\" class=\"dataframe\">\n",
       "  <thead>\n",
       "    <tr style=\"text-align: right;\">\n",
       "      <th></th>\n",
       "      <th>ItemID</th>\n",
       "      <th>Sentiment</th>\n",
       "      <th>SentimentText</th>\n",
       "    </tr>\n",
       "  </thead>\n",
       "  <tbody>\n",
       "    <tr>\n",
       "      <th>0</th>\n",
       "      <td>1</td>\n",
       "      <td>0</td>\n",
       "      <td>is so sad for my APL frie...</td>\n",
       "    </tr>\n",
       "    <tr>\n",
       "      <th>1</th>\n",
       "      <td>2</td>\n",
       "      <td>0</td>\n",
       "      <td>I missed the New Moon trail...</td>\n",
       "    </tr>\n",
       "    <tr>\n",
       "      <th>2</th>\n",
       "      <td>3</td>\n",
       "      <td>1</td>\n",
       "      <td>omg its already 7:30 :O</td>\n",
       "    </tr>\n",
       "    <tr>\n",
       "      <th>3</th>\n",
       "      <td>4</td>\n",
       "      <td>0</td>\n",
       "      <td>.. Omgaga. Im sooo  im gunna CRy. I'...</td>\n",
       "    </tr>\n",
       "    <tr>\n",
       "      <th>4</th>\n",
       "      <td>5</td>\n",
       "      <td>0</td>\n",
       "      <td>i think mi bf is cheating on me!!!   ...</td>\n",
       "    </tr>\n",
       "  </tbody>\n",
       "</table>\n",
       "</div>"
      ],
      "text/plain": [
       "   ItemID  Sentiment                                      SentimentText\n",
       "0       1          0                       is so sad for my APL frie...\n",
       "1       2          0                     I missed the New Moon trail...\n",
       "2       3          1                            omg its already 7:30 :O\n",
       "3       4          0            .. Omgaga. Im sooo  im gunna CRy. I'...\n",
       "4       5          0           i think mi bf is cheating on me!!!   ..."
      ]
     },
     "execution_count": 12,
     "metadata": {},
     "output_type": "execute_result"
    }
   ],
   "source": [
    "train_data.head()"
   ]
  },
  {
   "cell_type": "code",
   "execution_count": 41,
   "metadata": {},
   "outputs": [
    {
     "data": {
      "text/plain": [
       "RangeIndex(start=0, stop=99989, step=1)"
      ]
     },
     "execution_count": 41,
     "metadata": {},
     "output_type": "execute_result"
    }
   ],
   "source": [
    "train_data.index\n"
   ]
  },
  {
   "cell_type": "code",
   "execution_count": 14,
   "metadata": {},
   "outputs": [
    {
     "data": {
      "text/plain": [
       "Index(['ItemID', 'Sentiment', 'SentimentText'], dtype='object')"
      ]
     },
     "execution_count": 14,
     "metadata": {},
     "output_type": "execute_result"
    }
   ],
   "source": [
    "train_data.columns"
   ]
  },
  {
   "cell_type": "code",
   "execution_count": 15,
   "metadata": {},
   "outputs": [
    {
     "name": "stdout",
     "output_type": "stream",
     "text": [
      "<class 'pandas.core.frame.DataFrame'>\n",
      "RangeIndex: 99989 entries, 0 to 99988\n",
      "Data columns (total 3 columns):\n",
      " #   Column         Non-Null Count  Dtype \n",
      "---  ------         --------------  ----- \n",
      " 0   ItemID         99989 non-null  int64 \n",
      " 1   Sentiment      99989 non-null  int64 \n",
      " 2   SentimentText  99989 non-null  object\n",
      "dtypes: int64(2), object(1)\n",
      "memory usage: 2.3+ MB\n"
     ]
    }
   ],
   "source": [
    "train_data.info()"
   ]
  },
  {
   "cell_type": "code",
   "execution_count": 16,
   "metadata": {},
   "outputs": [
    {
     "data": {
      "text/plain": [
       "ItemID           0\n",
       "Sentiment        0\n",
       "SentimentText    0\n",
       "dtype: int64"
      ]
     },
     "execution_count": 16,
     "metadata": {},
     "output_type": "execute_result"
    }
   ],
   "source": [
    "train_data.isnull().sum()"
   ]
  },
  {
   "cell_type": "code",
   "execution_count": 17,
   "metadata": {},
   "outputs": [
    {
     "data": {
      "text/html": [
       "<div>\n",
       "<style scoped>\n",
       "    .dataframe tbody tr th:only-of-type {\n",
       "        vertical-align: middle;\n",
       "    }\n",
       "\n",
       "    .dataframe tbody tr th {\n",
       "        vertical-align: top;\n",
       "    }\n",
       "\n",
       "    .dataframe thead th {\n",
       "        text-align: right;\n",
       "    }\n",
       "</style>\n",
       "<table border=\"1\" class=\"dataframe\">\n",
       "  <thead>\n",
       "    <tr style=\"text-align: right;\">\n",
       "      <th></th>\n",
       "      <th>SentimentText</th>\n",
       "    </tr>\n",
       "  </thead>\n",
       "  <tbody>\n",
       "    <tr>\n",
       "      <th>count</th>\n",
       "      <td>99989</td>\n",
       "    </tr>\n",
       "    <tr>\n",
       "      <th>unique</th>\n",
       "      <td>99989</td>\n",
       "    </tr>\n",
       "    <tr>\n",
       "      <th>top</th>\n",
       "      <td>@Brygida_Poland thanks, haven't run for a week...</td>\n",
       "    </tr>\n",
       "    <tr>\n",
       "      <th>freq</th>\n",
       "      <td>1</td>\n",
       "    </tr>\n",
       "  </tbody>\n",
       "</table>\n",
       "</div>"
      ],
      "text/plain": [
       "                                            SentimentText\n",
       "count                                               99989\n",
       "unique                                              99989\n",
       "top     @Brygida_Poland thanks, haven't run for a week...\n",
       "freq                                                    1"
      ]
     },
     "execution_count": 17,
     "metadata": {},
     "output_type": "execute_result"
    }
   ],
   "source": [
    "train_data.describe(include=['object'])"
   ]
  },
  {
   "cell_type": "code",
   "execution_count": 43,
   "metadata": {},
   "outputs": [
    {
     "data": {
      "text/plain": [
       "1    56457\n",
       "0    43532\n",
       "Name: Sentiment, dtype: int64"
      ]
     },
     "execution_count": 43,
     "metadata": {},
     "output_type": "execute_result"
    }
   ],
   "source": [
    "train_data['Sentiment'].value_counts()"
   ]
  },
  {
   "cell_type": "code",
   "execution_count": 21,
   "metadata": {},
   "outputs": [],
   "source": [
    "d = train_data['Sentiment'].value_counts(normalize = True) * 100 "
   ]
  },
  {
   "cell_type": "code",
   "execution_count": 23,
   "metadata": {},
   "outputs": [
    {
     "data": {
      "text/plain": [
       "1    56.463211\n",
       "0    43.536789\n",
       "Name: Sentiment, dtype: float64"
      ]
     },
     "execution_count": 23,
     "metadata": {},
     "output_type": "execute_result"
    }
   ],
   "source": [
    "d"
   ]
  },
  {
   "cell_type": "code",
   "execution_count": 27,
   "metadata": {},
   "outputs": [
    {
     "data": {
      "image/png": "[encoded data removed]",
      "text/plain": [
       "<Figure size 432x288 with 1 Axes>"
      ]
     },
     "metadata": {
      "needs_background": "light"
     },
     "output_type": "display_data"
    },
    {
     "data": {
      "text/plain": [
       "<pandas._config.config.option_context at 0x1d2cb81adf0>"
      ]
     },
     "execution_count": 27,
     "metadata": {},
     "output_type": "execute_result"
    }
   ],
   "source": [
    "plt.bar(x = d.index, height = d.values, label = d.index, color= ['red','green'])\n",
    "plt.xlabel(\"Sentiments\")\n",
    "plt.ylabel(\"Percentage\")\n",
    "plt.title(\"Percentage of each type of tweet\")\n",
    "plt.show()\n",
    "pd.option_context('display.max_colwidth', 1000)"
   ]
  },
  {
   "cell_type": "code",
   "execution_count": 44,
   "metadata": {},
   "outputs": [],
   "source": [
    "from string import punctuation \n"
   ]
  },
  {
   "cell_type": "code",
   "execution_count": 48,
   "metadata": {},
   "outputs": [
    {
     "name": "stdout",
     "output_type": "stream",
     "text": [
      "Cleaning the tweets from the data.\n",
      "\n",
      "Replacing handwritten emojis with their feeling associated.\n",
      "Convert to lowercase.\n",
      "Replace contractions.\n",
      "Replace unicode emojis with their feeling associated.\n",
      "Remove all other unicoded emojis.\n",
      "Remove NON- ASCII characters.\n",
      "Remove numbers.\n",
      "Remove \"#\". \n",
      "Remove \"@\". \n",
      "Remove usernames.\n",
      "Remove 'RT'. \n",
      "Replace all URLs and Links with word 'URL'.\n",
      "Remove all punctuations.\n",
      "Removes single letter words.\n",
      "\n",
      "Tweets have been cleaned.\n"
     ]
    }
   ],
   "source": [
    "emoji_pattern = re.compile(\"[\"\n",
    "         u\"\\U0001F300-\\U0001F5FF\"  # symbols & pictographs\n",
    "         u\"\\U0001F680-\\U0001F6FF\"  # transport & map symbols\n",
    "         u\"\\U0001F1E0-\\U0001F1FF\"  # flags (iOS)\n",
    "         u\"\\U00002702-\\U000027B0\"\n",
    "         u\"\\U000024C2-\\U0001F251\"\n",
    "         \"]+\", flags=re.UNICODE)\n",
    "\n",
    "def replace_emojis(t):\n",
    "  '''\n",
    "  This function replaces happy unicode emojis with \"happy\" and sad unicode emojis with \"sad.\n",
    "  '''\n",
    "  emoji_happy = [\"\\U0001F600\", \"\\U0001F601\", \"\\U0001F602\",\"\\U0001F603\",\"\\U0001F604\",\"\\U0001F605\", \"\\U0001F606\", \"\\U0001F607\", \"\\U0001F609\", \n",
    "                \"\\U0001F60A\", \"\\U0001F642\",\"\\U0001F643\",\"\\U0001F923\",r\"\\U0001F970\",\"\\U0001F60D\", r\"\\U0001F929\",\"\\U0001F618\",\"\\U0001F617\",\n",
    "                r\"\\U000263A\", \"\\U0001F61A\", \"\\U0001F619\", r\"\\U0001F972\", \"\\U0001F60B\", \"\\U0001F61B\", \"\\U0001F61C\", r\"\\U0001F92A\",\n",
    "                \"\\U0001F61D\", \"\\U0001F911\", \"\\U0001F917\", r\"\\U0001F92D\", r\"\\U0001F92B\",\"\\U0001F914\",\"\\U0001F910\", r\"\\U0001F928\", \"\\U0001F610\", \"\\U0001F611\",\n",
    "                \"\\U0001F636\", \"\\U0001F60F\",\"\\U0001F612\", \"\\U0001F644\",\"\\U0001F62C\",\"\\U0001F925\",\"\\U0001F60C\",\"\\U0001F614\",\"\\U0001F62A\",\n",
    "                \"\\U0001F924\",\"\\U0001F634\", \"\\U0001F920\", r\"\\U0001F973\", r\"\\U0001F978\",\"\\U0001F60E\",\"\\U0001F913\", r\"\\U0001F9D0\"]\n",
    "\n",
    "  \n",
    "  emoji_sad = [\"\\U0001F637\",\"\\U0001F912\",\"\\U0001F915\",\"\\U0001F922\", r\"\\U0001F92E\",\"\\U0001F927\", r\"\\U0001F975\", r\"\\U0001F976\", r\"\\U0001F974\",\n",
    "                       \"\\U0001F635\", r\"\\U0001F92F\", \"\\U0001F615\",\"\\U0001F61F\",\"\\U0001F641\", r\"\\U0002639\",\"\\U0001F62E\",\"\\U0001F62F\",\"\\U0001F632\",\n",
    "                       \"\\U0001F633\", r\"\\U0001F97A\",\"\\U0001F626\",\"\\U0001F627\",\"\\U0001F628\",\"\\U0001F630\",\"\\U0001F625\",\"\\U0001F622\",\"\\U0001F62D\",\n",
    "                       \"\\U0001F631\",\"\\U0001F616\",\"\\U0001F623\"\t,\"\\U0001F61E\",\"\\U0001F613\",\"\\U0001F629\",\"\\U0001F62B\", r\"\\U0001F971\",\n",
    "                       \"\\U0001F624\",\"\\U0001F621\",\"\\U0001F620\", r\"\\U0001F92C\",\"\\U0001F608\",\"\\U0001F47F\",\"\\U0001F480\", r\"\\U0002620\"]\n",
    "\n",
    "  words = t.split()\n",
    "  reformed = []\n",
    "  for w in words:\n",
    "    if w in emoji_happy:\n",
    "      reformed.append(\"happy\")\n",
    "    elif w in emoji_sad:\n",
    "      reformed.append(\"sad\") \n",
    "    else:\n",
    "      reformed.append(w)\n",
    "  t = \" \".join(reformed)\n",
    "  return t\n",
    "def replace_smileys(t):\n",
    "  '''\n",
    "  This function replaces happy smileys with \"happy\" and sad smileys with \"sad.\n",
    "  '''\n",
    "  emoticons_happy = set([':-)', ':)', ';)', ':o)', ':]', ':3', ':c)', ':>', '=]', '8)', '=)', ':}', ':D',\n",
    "    ':^)', ':-D', ':D', '8-D', '8D', 'x-D', 'xD', 'X-D', 'XD', '=-D', '=D',\n",
    "    '=-3', '=3', ':-))', \":'-)\", \":')\", ':*', ':^*', '>:P', ':-P', ':P', 'X-P',\n",
    "    'x-p', 'xp', 'XP', ':-p', ':p', '=p', ':-b', ':b', '>:)', '>;)', '>:-)', '<3'])\n",
    "\n",
    "  emoticons_sad = set([':L', ':-/', '>:/', ':S', '>:[', ':@', ':-(', ':[', ':-||', '=L', ':<',\n",
    "    ':-[', ':-<', '=\\\\', '=/', '>:(', ':(', '>.<', \":'-(\", \":'(\", ':\\\\', ':-c',\n",
    "    ':c', ':{', '>:\\\\', ';('])  \n",
    "\n",
    "  words = t.split()\n",
    "  reformed = []\n",
    "  for w in words:\n",
    "    if w in emoticons_happy:\n",
    "      reformed.append(\"happy\")\n",
    "    elif w in emoticons_sad:\n",
    "      reformed.append(\"sad\") \n",
    "    else:\n",
    "      reformed.append(w)\n",
    "  t = \" \".join(reformed)\n",
    "  return t\n",
    "def replace_contractions(t):\n",
    "  '''\n",
    "  This function replaces english lanuage contractions like \"shouldn't\" with \"should not\"\n",
    "  '''\n",
    "  cont = {\"aren't\" : 'are not', \"can't\" : 'cannot', \"couln't\": 'could not', \"didn't\": 'did not', \"doesn't\" : 'does not',\n",
    "  \"hadn't\": 'had not', \"haven't\": 'have not', \"he's\" : 'he is', \"she's\" : 'she is', \"he'll\" : \"he will\", \n",
    "  \"she'll\" : 'she will',\"he'd\": \"he would\", \"she'd\":\"she would\", \"here's\" : \"here is\", \n",
    "   \"i'm\" : 'i am', \"i've\"\t: \"i have\", \"i'll\" : \"i will\", \"i'd\" : \"i would\", \"isn't\": \"is not\", \n",
    "   \"it's\" : \"it is\", \"it'll\": \"it will\", \"mustn't\" : \"must not\", \"shouldn't\" : \"should not\", \"that's\" : \"that is\", \n",
    "   \"there's\" : \"there is\", \"they're\" : \"they are\", \"they've\" : \"they have\", \"they'll\" : \"they will\",\n",
    "   \"they'd\" : \"they would\", \"wasn't\" : \"was not\", \"we're\": \"we are\", \"we've\":\"we have\", \"we'll\": \"we will\", \n",
    "   \"we'd\" : \"we would\", \"weren't\" : \"were not\", \"what's\" : \"what is\", \"where's\" : \"where is\", \"who's\": \"who is\",\n",
    "   \"who'll\" :\"who will\", \"won't\":\"will not\", \"wouldn't\" : \"would not\", \"you're\": \"you are\", \"you've\":\"you have\",\n",
    "   \"you'll\" : \"you will\", \"you'd\" : \"you would\", \"mayn't\" : \"may not\"}\n",
    "  words = t.split()\n",
    "  reformed = []\n",
    "  for w in words:\n",
    "    if w in cont:\n",
    "      reformed.append(cont[w])\n",
    "    else:\n",
    "      reformed.append(w)\n",
    "  t = \" \".join(reformed)\n",
    "  return t  \n",
    "\n",
    "def remove_single_letter_words(t):\n",
    "  '''\n",
    "  This function removes words that are single characters\n",
    "  '''\n",
    "  words = t.split()\n",
    "  reformed = []\n",
    "  for w in words:\n",
    "    if len(w) > 1:\n",
    "      reformed.append(w)\n",
    "  t = \" \".join(reformed)\n",
    "  return t  \n",
    "\n",
    "print(\"Cleaning the tweets from the data.\\n\")\n",
    "print(\"Replacing handwritten emojis with their feeling associated.\")\n",
    "print(\"Convert to lowercase.\")\n",
    "print(\"Replace contractions.\")\n",
    "print(\"Replace unicode emojis with their feeling associated.\")\n",
    "print(\"Remove all other unicoded emojis.\")\n",
    "print(\"Remove NON- ASCII characters.\")\n",
    "print(\"Remove numbers.\")\n",
    "print(\"Remove \\\"#\\\". \")\n",
    "print(\"Remove \\\"@\\\". \")\n",
    "print(\"Remove usernames.\")\n",
    "print(\"Remove \\'RT\\'. \")\n",
    "print(\"Replace all URLs and Links with word \\'URL\\'.\")\n",
    "print(\"Remove all punctuations.\")\n",
    "print(\"Removes single letter words.\\n\")\n",
    "\n",
    "def dataclean(t):\n",
    "  '''\n",
    "  This function cleans the tweets.\n",
    "  '''\n",
    "  t = replace_smileys(t) # replace handwritten emojis with their feeling associated\n",
    "  t = t.lower() # convert to lowercase\n",
    "  t = replace_contractions(t) # replace short forms used in english  with their actual words\n",
    "  t = replace_emojis(t) # replace unicode emojis with their feeling associated\n",
    "  t = emoji_pattern.sub(r'', t) # remove emojis other than smiley emojis\n",
    "  t = re.sub('\\\\\\\\u[0-9A-Fa-f]{4}','', t) # remove NON- ASCII characters\n",
    "  t = re.sub(\"[0-9]\", \"\", t) # remove numbers # re.sub(\"\\d+\", \"\", t)\n",
    "  t = re.sub('#', '', t) # remove '#'\n",
    "  t = re.sub('@[A-Za-z0–9]+', '', t) # remove '@'\n",
    "  t = re.sub('@[^\\s]+', '', t) # remove usernames\n",
    "  t = re.sub('RT[\\s]+', '', t) # remove retweet 'RT'\n",
    "  t = re.sub('((www\\.[^\\s]+)|(https?://[^\\s]+))', '', t) # remove links (URLs/ links)\n",
    "  t = re.sub('[!\"$%&\\'()*+,-./:@;<=>?[\\\\]^_`{|}~]', '', t) # remove punctuations\n",
    "  t = t.replace('\\\\\\\\', '')\n",
    "  t = t.replace('\\\\', '')\n",
    "  t = remove_single_letter_words(t) # removes single letter words\n",
    "  \n",
    "  return t\n",
    "\n",
    "train_data['SentimentText'] = train_data['SentimentText'].apply(dataclean)\n",
    "print(\"Tweets have been cleaned.\")"
   ]
  },
  {
   "cell_type": "code",
   "execution_count": 60,
   "metadata": {},
   "outputs": [
    {
     "name": "stdout",
     "output_type": "stream",
     "text": [
      "Pre - processing the tweets.\n",
      "\n",
      "Downloading necessary packages for preprocessing.\n",
      "\"punkt\" is downloaded.\n",
      "\"Stopwords\" are downloaded.\n",
      "Algorithm for lemmatization is downloaded.\n",
      "--------------------------------------------------\n",
      "\n",
      "Steps involved are : \n",
      "\n",
      "Step 1 - \"Tokenization\". \n",
      "Importing the necessary functions required for tokenization.\n",
      "Necessary functions are downloaded.\n",
      "\n",
      "Step 2 - \"Removing the stopwprds\". \n",
      "Importing the necessary functions required for removing stopwords.\n",
      "Necessary functions are downloaded.\n",
      "Stop words in ENGLISH language are : \n",
      "\n",
      "Step 3 - \"Lemmatization\". \n",
      "Importing the necessary functions required for lemmatization.\n",
      "Necessary functions are downloaded.\n",
      "Loading the algorithm for Lemmatization.\n",
      "Algorithm for lemmatization is loaded.\n",
      "\n"
     ]
    },
    {
     "name": "stderr",
     "output_type": "stream",
     "text": [
      "[nltk_data] Downloading package punkt to C:\\Users\\SOBIYA\n",
      "[nltk_data]     SELSIYA\\AppData\\Roaming\\nltk_data...\n",
      "[nltk_data]   Package punkt is already up-to-date!\n",
      "[nltk_data] Downloading package stopwords to C:\\Users\\SOBIYA\n",
      "[nltk_data]     SELSIYA\\AppData\\Roaming\\nltk_data...\n",
      "[nltk_data]   Package stopwords is already up-to-date!\n",
      "[nltk_data] Downloading package wordnet to C:\\Users\\SOBIYA\n",
      "[nltk_data]     SELSIYA\\AppData\\Roaming\\nltk_data...\n",
      "[nltk_data]   Package wordnet is already up-to-date!\n"
     ]
    },
    {
     "name": "stdout",
     "output_type": "stream",
     "text": [
      "After preprocessing. ['sad apl friend', 'miss new moon trailer', 'omg already', 'omgaga im sooo im gunna cry dentist since suposed get crown put mins', 'think mi bf cheat tt']\n",
      "Top 20 words used in the tweets are : \n",
      " ['sad', 'apl', 'friend', 'miss', 'new', 'moon', 'trailer', 'omg', 'already', 'omgaga', 'im', 'sooo', 'im', 'gunna', 'cry', 'dentist', 'since', 'suposed', 'get', 'crown']\n"
     ]
    }
   ],
   "source": [
    "def freq_words(tokens):\n",
    "  '''See frequency distribution of words'''\n",
    "  from nltk.probability import FreqDist\n",
    "  \n",
    "  fdist = FreqDist(tokens)\n",
    "  print(fdist) # total 508935 values and 56653 unique values\n",
    "    \n",
    "  # top 20 most common words\n",
    "  print(\"Top 10 most common words in the data. \\n\")\n",
    "  df = pd.DataFrame(fdist.most_common(20), columns=['Tokens', 'Frequency'])\n",
    "  print(df)\n",
    "\n",
    "  # plot of top 20 most common words\n",
    "  fdist.plot(20, cumulative = False)\n",
    "  plt.show()\n",
    "\n",
    "def word_cloud(tokens):\n",
    "  '''A word cloud (also known as text clouds or tag clouds) is a visualization, \n",
    "  the more a specific word appears in the text, the bigger and bolder it appears in the word cloud.\n",
    "  '''\n",
    "  from wordcloud import WordCloud\n",
    "  w = ' '.join([i for i in tokens])\n",
    "  wc = WordCloud(width = 1000, height = 700, random_state=21, max_font_size=110).generate(w)\n",
    "  plt.imshow(wc, interpolation = \"bilinear\")\n",
    "  plt.axis('off')\n",
    "  plt.show()\n",
    "def preprocess(t):\n",
    "  # downloading necessary packages\n",
    "  from nltk.tokenize import word_tokenize\n",
    "  from nltk.corpus import stopwords\n",
    "  stop_words = set(stopwords.words('english'))\n",
    "   \n",
    "  from nltk.stem.wordnet import WordNetLemmatizer\n",
    "  lem = WordNetLemmatizer()\n",
    "  \n",
    "  # tokenization\n",
    "  tw = []  \n",
    "  tw = word_tokenize(t)  \n",
    "  \n",
    "  # remove the stopwords\n",
    "  fs = [] # filtered list after removing stop words\n",
    "  fs = ([i for i in tw if i not in stop_words])\n",
    "  \n",
    "  # lemmatization  \n",
    "  ns = []\n",
    "  for i in fs:\n",
    "    ns.append(lem.lemmatize(i, 'v'))\n",
    "  ns = ' '.join(ns)\n",
    "  return ns  \n",
    "print(\"Pre - processing the tweets.\\n\")\n",
    "print(\"Downloading necessary packages for preprocessing.\")\n",
    "## for tokenization\n",
    "if (nltk.download(\"punkt\")):\n",
    "  print(\"\\\"punkt\\\" is downloaded.\")\n",
    "## for stopwords\n",
    "if (nltk.download('stopwords')):\n",
    "  print(\"\\\"Stopwords\\\" are downloaded.\")\n",
    "## for lemmatization\n",
    "if (nltk.download('wordnet')):\n",
    "  print(\"Algorithm for lemmatization is downloaded.\")  \n",
    "print(\"-\" * 50)\n",
    "print(\"\\nSteps involved are : \")\n",
    "print(\"\\nStep 1 - \\\"Tokenization\\\". \")\n",
    "print(\"Importing the necessary functions required for tokenization.\")\n",
    "\n",
    "print(\"Necessary functions are downloaded.\")\n",
    "print(\"\\nStep 2 - \\\"Removing the stopwprds\\\". \")\n",
    "print(\"Importing the necessary functions required for removing stopwords.\")\n",
    "print(\"Necessary functions are downloaded.\")\n",
    "print(\"Stop words in ENGLISH language are : \")\n",
    "\n",
    "print(\"\\nStep 3 - \\\"Lemmatization\\\". \")\n",
    "print(\"Importing the necessary functions required for lemmatization.\")\n",
    "print(\"Necessary functions are downloaded.\")\n",
    "print(\"Loading the algorithm for Lemmatization.\")\n",
    "print(\"Algorithm for lemmatization is loaded.\\n\")\n",
    "pp_list = []\n",
    "for tweet in train_data['SentimentText']:\n",
    "  pp_list.append(preprocess(tweet))\n",
    "print(\"After preprocessing.\", pp_list[:5])\n",
    "\n",
    "# for graphical display of preprocessed data\n",
    "from nltk.tokenize import word_tokenize\n",
    "tokens = []\n",
    "for i in pp_list:\n",
    "  tokens.extend(word_tokenize(i))\n",
    "print(\"Top 20 words used in the tweets are : \\n\", tokens[:20])\n"
   ]
  },
  {
   "cell_type": "code",
   "execution_count": 54,
   "metadata": {},
   "outputs": [
    {
     "name": "stdout",
     "output_type": "stream",
     "text": [
      "Number of data points in training data :\n",
      "\n",
      "X =  79991\n",
      "Y =  79991\n",
      "\n",
      "Number of data points in validation data :\n",
      "\n",
      "X =  19998\n",
      "Y =  19998\n"
     ]
    }
   ],
   "source": [
    "from sklearn.model_selection import train_test_split  \n",
    "x = pp_list\n",
    "y = train_data['Sentiment'].values\n",
    "x_train, x_val, y_train, y_val = train_test_split(x, y, test_size=0.2, random_state = 1)\n",
    "print(\"Number of data points in training data :\\n\")\n",
    "print(\"X = \", len(x_train))\n",
    "print(\"Y = \", len(y_train))\n",
    "\n",
    "print(\"\\nNumber of data points in validation data :\\n\")\n",
    "print(\"X = \", len(x_val))\n",
    "print(\"Y = \", len(y_val))"
   ]
  },
  {
   "cell_type": "code",
   "execution_count": 55,
   "metadata": {},
   "outputs": [],
   "source": [
    "from sklearn.feature_extraction.text import TfidfTransformer\n",
    "from sklearn.feature_extraction.text import TfidfVectorizer\n"
   ]
  },
  {
   "cell_type": "code",
   "execution_count": 56,
   "metadata": {},
   "outputs": [
    {
     "name": "stdout",
     "output_type": "stream",
     "text": [
      "Shape of training data :  (79991, 52246) \n",
      "Shape of validation data :  (19998, 52246)\n"
     ]
    }
   ],
   "source": [
    "vectorizer = TfidfVectorizer()\n",
    "train_vectors = vectorizer.fit_transform(x_train)\n",
    "\n",
    "val_vectors = vectorizer.transform(x_val)\n",
    "print(\"Shape of training data : \",train_vectors.shape, \"\\nShape of validation data : \",val_vectors.shape)"
   ]
  },
  {
   "cell_type": "code",
   "execution_count": 57,
   "metadata": {},
   "outputs": [
    {
     "name": "stdout",
     "output_type": "stream",
     "text": [
      "Building a Logistic Regression Model using tf- idf approach\n",
      "\n",
      "\n",
      "Our Sentiment Analyzer from Logistic Regression is ready and trained.\n"
     ]
    }
   ],
   "source": [
    "print(\"Building a Logistic Regression Model using tf- idf approach\")\n",
    "from sklearn.linear_model import LogisticRegression\n",
    "model_LR = LogisticRegression(solver='lbfgs')\n",
    "model_LR.fit(train_vectors, y_train)\n",
    "print(\"\\n\\nOur Sentiment Analyzer from Logistic Regression is ready and trained.\")"
   ]
  },
  {
   "cell_type": "code",
   "execution_count": 58,
   "metadata": {},
   "outputs": [
    {
     "name": "stdout",
     "output_type": "stream",
     "text": [
      "Let us test the performance of our model on the validation set to predict the sentiment labels using the different ML models trained.\n",
      "PERFORMANCE OF LOGISTIC REGRESSION MODEL : \n",
      "\n",
      "Predicting the sentiments...\n",
      "\n",
      "Analysis after prediction : \n",
      "\n",
      "1    61.841184\n",
      "0    38.158816\n",
      "Name: predicted, dtype: float64\n"
     ]
    },
    {
     "data": {
      "image/png": "[encoded data removed]",
      "text/plain": [
       "<Figure size 432x288 with 1 Axes>"
      ]
     },
     "metadata": {
      "needs_background": "light"
     },
     "output_type": "display_data"
    },
    {
     "name": "stdout",
     "output_type": "stream",
     "text": [
      "Confusion Matrix :\n",
      " [[5667 3043]\n",
      " [1964 9324]]\n",
      "classification report: \n",
      "               precision    recall  f1-score   support\n",
      "\n",
      "           0       0.74      0.65      0.69      8710\n",
      "           1       0.75      0.83      0.79     11288\n",
      "\n",
      "    accuracy                           0.75     19998\n",
      "   macro avg       0.75      0.74      0.74     19998\n",
      "weighted avg       0.75      0.75      0.75     19998\n",
      "\n",
      "Accuracy score  =  74.96249624962496\n",
      "----------------------------------------------------------------------------------------------------\n"
     ]
    }
   ],
   "source": [
    "def performance(model, y_true, vectors):\n",
    "  from sklearn.metrics import classification_report, confusion_matrix, accuracy_score\n",
    "  print(\"Predicting the sentiments...\")\n",
    "  y_pred = model.predict(vectors)   #y_pred_RF = model_RF.predict(val_vectors)\n",
    "  df = pd.DataFrame({'actual' : y_true, 'predicted' : y_pred})\n",
    "  print(\"\\nAnalysis after prediction : \\n\")\n",
    "  d = df['predicted'].value_counts(normalize = True) * 100 # series\n",
    "  print(d)\n",
    "  ## plot for analysis\n",
    "  plt.bar(x = d.index, height = d.values, label = d.index, color= ['green','blue','red'])\n",
    "  plt.xlabel(\"Sentiments\")\n",
    "  plt.ylabel(\"Percentage\")\n",
    "  plt.title('Sentiment Analysis')\n",
    "  plt.show()\n",
    "  \n",
    "  cm = confusion_matrix(y_true,y_pred)\n",
    "  crp = classification_report(y_true,y_pred)\n",
    "  acc = accuracy_score(y_true,y_pred)\n",
    "  return (cm, crp, acc)\n",
    "print(\"Let us test the performance of our model on the validation set to predict the sentiment labels using the different ML models trained.\")\n",
    "print(\"PERFORMANCE OF LOGISTIC REGRESSION MODEL : \\n\")\n",
    "perform = performance(model_LR, y_val, val_vectors)\n",
    "print(\"Confusion Matrix :\\n\", perform[0])  \n",
    "print(\"classification report: \\n\", perform[1])  \n",
    "print(\"Accuracy score  = \", perform[2] *100)\n",
    "print(\"-\" * 100)\n"
   ]
  }
 ],
 "metadata": {
  "kernelspec": {
   "display_name": "Python 3",
   "language": "python",
   "name": "python3"
  },
  "language_info": {
   "codemirror_mode": {
    "name": "ipython",
    "version": 3
   },
   "file_extension": ".py",
   "mimetype": "text/x-python",
   "name": "python",
   "nbconvert_exporter": "python",
   "pygments_lexer": "ipython3",
   "version": "3.8.5"
  }
 },
 "nbformat": 4,
 "nbformat_minor": 4
}
